{
  "nbformat": 4,
  "nbformat_minor": 0,
  "metadata": {
    "colab": {
      "provenance": []
    },
    "kernelspec": {
      "name": "python3",
      "display_name": "Python 3"
    },
    "language_info": {
      "name": "python"
    }
  },
  "cells": [
    {
      "cell_type": "code",
      "execution_count": 1,
      "metadata": {
        "colab": {
          "base_uri": "https://localhost:8080/"
        },
        "id": "RJDTHladuDP6",
        "outputId": "d9001317-0eff-435c-b7c4-cc9af4202ab2"
      },
      "outputs": [
        {
          "output_type": "stream",
          "name": "stdout",
          "text": [
            "          0         1         2         3\n",
            "0 -1.288492  0.955664 -1.455761 -0.788669\n",
            "1 -0.063356  0.572348 -0.424046  0.126886\n",
            "2  1.151346  0.702857 -0.192112 -0.559753\n",
            "3 -1.597798  1.532601  0.315236  1.350605\n"
          ]
        }
      ],
      "source": [
        "import pandas as pd\n",
        "import numpy as np\n",
        "random_data = np.random.randn(4, 4)\n",
        "df = pd.DataFrame(random_data)\n",
        "print(df)"
      ]
    },
    {
      "cell_type": "code",
      "source": [
        "df = df.rename(columns={0: 'Random value 1', 1: 'Random value 2', 2: 'Random value 3', 3: 'Random value 4'})\n",
        "print(df)"
      ],
      "metadata": {
        "colab": {
          "base_uri": "https://localhost:8080/"
        },
        "id": "LIBXCtTEuiBi",
        "outputId": "94be3205-bb2c-4142-9994-877fdc213e52"
      },
      "execution_count": 2,
      "outputs": [
        {
          "output_type": "stream",
          "name": "stdout",
          "text": [
            "   Random value 1  Random value 2  Random value 3  Random value 4\n",
            "0       -1.288492        0.955664       -1.455761       -0.788669\n",
            "1       -0.063356        0.572348       -0.424046        0.126886\n",
            "2        1.151346        0.702857       -0.192112       -0.559753\n",
            "3       -1.597798        1.532601        0.315236        1.350605\n"
          ]
        }
      ]
    },
    {
      "cell_type": "code",
      "source": [
        "statistics = df.describe()\n",
        "print(statistics)"
      ],
      "metadata": {
        "colab": {
          "base_uri": "https://localhost:8080/"
        },
        "id": "GiH0FqN_upGa",
        "outputId": "6c66ca98-d8b6-480b-e91b-d7d4bffce2ab"
      },
      "execution_count": 3,
      "outputs": [
        {
          "output_type": "stream",
          "name": "stdout",
          "text": [
            "       Random value 1  Random value 2  Random value 3  Random value 4\n",
            "count        4.000000        4.000000        4.000000        4.000000\n",
            "mean        -0.449575        0.940868       -0.439171        0.032267\n",
            "std          1.256226        0.425372        0.744726        0.961144\n",
            "min         -1.597798        0.572348       -1.455761       -0.788669\n",
            "25%         -1.365819        0.670230       -0.681975       -0.616982\n",
            "50%         -0.675924        0.829260       -0.308079       -0.216433\n",
            "75%          0.240319        1.099898       -0.065275        0.432816\n",
            "max          1.151346        1.532601        0.315236        1.350605\n"
          ]
        }
      ]
    },
    {
      "cell_type": "code",
      "source": [
        "null_values = df.isnull().sum()\n",
        "data_types = df.dtypes\n",
        "\n",
        "print(\"Null values:\\n\", null_values)\n",
        "print(\"\\nData types:\\n\", data_types)"
      ],
      "metadata": {
        "colab": {
          "base_uri": "https://localhost:8080/"
        },
        "id": "GuHSBJLVuwbe",
        "outputId": "c5967317-c8d5-4689-b2ca-43fcf329c25c"
      },
      "execution_count": 4,
      "outputs": [
        {
          "output_type": "stream",
          "name": "stdout",
          "text": [
            "Null values:\n",
            " Random value 1    0\n",
            "Random value 2    0\n",
            "Random value 3    0\n",
            "Random value 4    0\n",
            "dtype: int64\n",
            "\n",
            "Data types:\n",
            " Random value 1    float64\n",
            "Random value 2    float64\n",
            "Random value 3    float64\n",
            "Random value 4    float64\n",
            "dtype: object\n"
          ]
        }
      ]
    },
    {
      "cell_type": "code",
      "source": [
        "#.loc\n",
        "columns_loc = df.loc[:, ['Random value 2', 'Random value 3']]\n",
        "print(\"Using .loc:\\n\", columns_loc)\n",
        "\n",
        "#.iloc\n",
        "columns_iloc = df.iloc[:, [1, 2]]\n",
        "print(\"\\nUsing .iloc:\\n\", columns_iloc)"
      ],
      "metadata": {
        "colab": {
          "base_uri": "https://localhost:8080/"
        },
        "id": "DATqcW9pu3Vm",
        "outputId": "decb4f71-803b-4bd4-be0a-a3b275e90d4c"
      },
      "execution_count": 5,
      "outputs": [
        {
          "output_type": "stream",
          "name": "stdout",
          "text": [
            "Using .loc:\n",
            "    Random value 2  Random value 3\n",
            "0        0.955664       -1.455761\n",
            "1        0.572348       -0.424046\n",
            "2        0.702857       -0.192112\n",
            "3        1.532601        0.315236\n",
            "\n",
            "Using .iloc:\n",
            "    Random value 2  Random value 3\n",
            "0        0.955664       -1.455761\n",
            "1        0.572348       -0.424046\n",
            "2        0.702857       -0.192112\n",
            "3        1.532601        0.315236\n"
          ]
        }
      ]
    },
    {
      "cell_type": "markdown",
      "source": [
        "ROHIT KETAN DEVAL 20BKT0103"
      ],
      "metadata": {
        "id": "73xGB51xvBOc"
      }
    }
  ]
}